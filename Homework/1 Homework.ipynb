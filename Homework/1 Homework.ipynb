{
 "cells": [
  {
   "cell_type": "markdown",
   "id": "47a39a75",
   "metadata": {},
   "source": [
    "# Introduction to Probabilisitic Methods Exercises\n",
    "\n",
    "**2025 Introduction to Quantiative Methods in Finance**\n",
    "\n",
    "**The Erdös Institute**\n",
    "\n",
    "\n",
    "These are exercises for practice, not to be submitted."
   ]
  },
  {
   "cell_type": "markdown",
   "id": "5b51a791",
   "metadata": {},
   "source": [
    "## Exercise 1 ## \n",
    "\n",
    "Design and code a probabilistic method to estimate $\\pi\\sim 3.14$."
   ]
  },
  {
   "cell_type": "code",
   "execution_count": 96,
   "id": "71f23e93",
   "metadata": {},
   "outputs": [],
   "source": [
    "import numpy as np\n",
    "from scipy import random as rand\n",
    "from IPython.display import display, Latex"
   ]
  },
  {
   "cell_type": "code",
   "execution_count": 100,
   "id": "b6b4bd0e",
   "metadata": {},
   "outputs": [
    {
     "data": {
      "text/latex": [
       "Our estimate for $\\pi$ is...... **drumrollllll*:"
      ],
      "text/plain": [
       "<IPython.core.display.Latex object>"
      ]
     },
     "metadata": {},
     "output_type": "display_data"
    },
    {
     "name": "stdout",
     "output_type": "stream",
     "text": [
      "3.1444\n"
     ]
    }
   ],
   "source": [
    "N = 500000 # samples\n",
    "R_sq_circ = 1.\n",
    "\n",
    "in_circ = 0\n",
    "display(Latex(r'Our estimate for $\\pi$ is...... **drumrollllll*:'))\n",
    "for _ in range(N):\n",
    "    x = rand.uniform()\n",
    "    y = rand.uniform()\n",
    "    if(x*x + y*y <= R_sq_circ):\n",
    "        in_circ += 1\n",
    "\n",
    "pi = 4*in_circ/N\n",
    "print(pi)\n",
    "    "
   ]
  },
  {
   "cell_type": "markdown",
   "id": "5951397b",
   "metadata": {},
   "source": [
    "## Exercise 2 ## \n",
    "\n",
    "###  Rules of Craps (Vegas Casino Style)\n",
    "\n",
    " \n",
    "The basic rules are outlined below and a several common betting options are given.\n",
    "\n",
    "### 1. The Come-Out Roll\n",
    " - The game begins with the shooter making a \"come-out\" roll using two six-sided dice.\n",
    " - If the come-out roll is a **7 or 11**, the pass line bet wins (called a \"natural\").\n",
    " - If the come-out roll is **2, 3, or 12**, the pass line bet loses (called \"craps\").\n",
    " - If the come-out roll is **4, 5, 6, 8, 9, or 10**, that number becomes the **point**.\n",
    "\n",
    "### 2. Point Phase\n",
    " - Once the point is established, the shooter continues rolling.\n",
    " - The goal is to roll the **point number again before rolling a 7**.\n",
    "     - If the shooter rolls the point again, pass line bets win.\n",
    "     - If the shooter rolls a **7 before the point**, pass line bets lose (called \"seven out\").\n",
    "\n",
    "### 3. Some Betting Options\n",
    " - **Pass Line Bet**: Wins on a natural (7 or 11), loses on craps (2, 3, 12), wins if point is hit before a 7.\n",
    " - **Don't Pass Bet**: Opposite of pass line. Wins on craps (2, 3), ties on 12, loses on 7 or 11.\n",
    "\n",
    " \n",
    " \n",
    " ### Part 1\n",
    " Determine the odds of winning at craps for the Pass Line Bet and Don't Pass Bet.\n",
    " \n",
    " ### Part 2\n",
    " Use probabilistic/Monte-Carlo methods for estimating the odds of winning the Pass Line and Don't Pass Line Bets."
   ]
  },
  {
   "cell_type": "markdown",
   "id": "aa67d195",
   "metadata": {},
   "source": [
    "## Odds of winning Pass Line Bet\n",
    "\n",
    "### Probability of winning the first phase is the probability of rolling:\n",
    "    - A) a seven or eleven\n",
    "    - B) a point roll combined with rolling it again first (before a seven)\n",
    "    \n",
    "Probabilitly of A $= P(7) + P(11) = \\frac{6}{36} + \\frac{2}{36}$  \n",
    "Probability of B $= \\sum_{i=4;\\neq7}^{10} P(i)\\frac{P(i)}{P(i) + P(7)}$  \n",
    "Probability of $A \\cup B \\approx .4929$"
   ]
  },
  {
   "cell_type": "markdown",
   "id": "c1fdb4f9",
   "metadata": {},
   "source": [
    "## Odds of winning Don't Pass Line Bet\n",
    "\n",
    "### Probability of winning the first phase is the probability of rolling:\n",
    "    - A) a two or three\n",
    "    - B) a point roll combined with rolling a 7 first (before rolling the point again)\n",
    "    \n",
    "Probabilitly of A $= P(2) + P(3) = \\frac{1}{36} + \\frac{2}{36}$  \n",
    "Probability of B $= \\sum_{i=4;\\neq7}^{10} P(i)\\frac{P(7)}{P(i) + P(7)}$  \n",
    "Probability of $A \\cup B \\approx .4793$"
   ]
  },
  {
   "cell_type": "markdown",
   "id": "31bafd69",
   "metadata": {},
   "source": [
    "## Monte-Carlo'ing the answer"
   ]
  },
  {
   "cell_type": "code",
   "execution_count": 123,
   "id": "e3e9ddfb",
   "metadata": {},
   "outputs": [
    {
     "name": "stdout",
     "output_type": "stream",
     "text": [
      "Let's go to Vegas!!!!\n",
      "...\n",
      "Pass win probability:  0.493068\n",
      "Don't Pass win probability:  0.478672\n"
     ]
    }
   ],
   "source": [
    "def Roll():\n",
    "    #for whatever diabolical reason randint high value is NON-INCLUSIVE\n",
    "    d1 = rand.randint(1,7)\n",
    "    d2 = rand.randint(1,7)\n",
    "    return d1+d2\n",
    "def Craps():\n",
    "    roll = Roll()\n",
    "    if (roll==7) or (roll==11):\n",
    "        return np.array([1,0])\n",
    "    if (roll==2) or (roll==3):\n",
    "        return np.array([0,1])\n",
    "    if(roll==12):\n",
    "        return np.array([0,0])\n",
    "    # if these conditions aren't met, we move on the second phase\n",
    "    # i.e. must have rolled a point\n",
    "    newRoll = Roll()\n",
    "    while not(newRoll == roll or newRoll == 7):\n",
    "        newRoll = Roll()\n",
    "    if newRoll == roll:\n",
    "        return np.array([1,0])\n",
    "    else:\n",
    "        return np.array([0,1])\n",
    "    \n",
    "    \n",
    "#Number of Games: N\n",
    "\n",
    "N = 500000\n",
    "win_count = np.array([0,0])\n",
    "print(\"Let's go to Vegas!!!!\")\n",
    "print(\"...\")\n",
    "for _ in range(N):\n",
    "    win_count += Craps()\n",
    "    \n",
    "print(\"Pass win probability: \", win_count[0]/N)\n",
    "print(\"Don't Pass win probability: \", win_count[1]/N)\n"
   ]
  },
  {
   "cell_type": "markdown",
   "id": "8bc1f363",
   "metadata": {},
   "source": [
    "## Exercise 3 ##\n",
    "\n",
    "Ten cards labeled 1 through 10 are shuffled. What is the probability that one of the ten cards was shuffled to its original location?\n",
    "\n",
    "Find the true expectation and try using a probabilistic method to estimate the answer."
   ]
  },
  {
   "cell_type": "markdown",
   "id": "ad9ea6f6",
   "metadata": {},
   "source": []
  },
  {
   "cell_type": "code",
   "execution_count": 158,
   "id": "e0c3876b",
   "metadata": {},
   "outputs": [
    {
     "name": "stdout",
     "output_type": "stream",
     "text": [
      "Pick a card.. any card.... can be.. in its.. originial.. positio..n ...\n",
      "Expectation of \"miraculous\" cards:  1.00398\n"
     ]
    }
   ],
   "source": [
    "N = 50000\n",
    "card_deck = [i for i in range(1,11)]\n",
    "new_deck = []\n",
    "miraculous_cards = 0\n",
    "expectation = 0\n",
    "print(\"Pick a card.. any card.... can be.. in its.. originial.. positio..n ...\")\n",
    "for _ in range(N):\n",
    "    while card_deck:\n",
    "        draw_from = rand.randint(0,len(card_deck))\n",
    "        draw = card_deck.pop(draw_from)\n",
    "        new_deck.append(draw)\n",
    "        if draw == len(new_deck):\n",
    "            miraculous_cards += 1\n",
    "    expectation += miraculous_cards\n",
    "    card_deck = [i for i in range(1,11)]\n",
    "    new_deck = []\n",
    "    miraculous_cards = 0\n",
    "print(\"Expectation of \\\"miraculous\\\" cards: \", expectation/N)"
   ]
  },
  {
   "cell_type": "code",
   "execution_count": null,
   "id": "e152f890",
   "metadata": {},
   "outputs": [],
   "source": []
  },
  {
   "cell_type": "code",
   "execution_count": null,
   "id": "4a09fce2",
   "metadata": {},
   "outputs": [],
   "source": []
  },
  {
   "cell_type": "markdown",
   "id": "9a25d6ed",
   "metadata": {},
   "source": [
    "## Exercise 4\n",
    "\n",
    "You approach two slot machines. Each machine costs $\\$.050$ to play and pays out $\\$1$ for a win. You do not know the exact probability of winning on either machine, but you are told that **one has a 2/5 chance of winning**, and the **other has a 3/5 chance of winning**. You do not know which machine has which probability.\n",
    "\n",
    "Your goal is to use probabilistic methods to compare two strategies over a total of 100 plays, to see which strategy is more profitable on average. A more profitable strategy is one that tends to allocate more plays to the machine with the higher payout probability.\n",
    "\n",
    "### Strategies to Simulate\n",
    "\n",
    "1. **Loss-Switch Strategy:**  \n",
    "   Select a slot machine at random. Play on that machine until you lose, then switch to the other machine. Repeat this process for 100 plays.\n",
    "\n",
    "2. **Exploration-Exploitation Strategy:**  \n",
    "   Start by playing each machine 10 times. Estimate the win rate for each machine based on these initial plays. Then:\n",
    "   - Continue playing the machine with the higher observed win rate.\n",
    "   - After each play, update the estimated win rate.\n",
    "   - If the other machine’s estimated win rate becomes higher, switch to it.\n",
    "   - Repeat until 100 total plays have been made.\n",
    "\n",
    "---\n",
    "\n",
    "**Note:**  \n",
    "While this is a simplified, hypothetical scenario, it mirrors real-world decision-making under uncertainty. For instance, in finance, a trader might have multiple strategies available for a given asset. The decision of which strategy to follow at a given time can be based on adaptive rules informed by past performance, similar in spirit to the strategies explored here."
   ]
  }
 ],
 "metadata": {
  "kernelspec": {
   "display_name": "Python 3 (ipykernel)",
   "language": "python",
   "name": "python3"
  },
  "language_info": {
   "codemirror_mode": {
    "name": "ipython",
    "version": 3
   },
   "file_extension": ".py",
   "mimetype": "text/x-python",
   "name": "python",
   "nbconvert_exporter": "python",
   "pygments_lexer": "ipython3",
   "version": "3.8.10"
  }
 },
 "nbformat": 4,
 "nbformat_minor": 5
}
