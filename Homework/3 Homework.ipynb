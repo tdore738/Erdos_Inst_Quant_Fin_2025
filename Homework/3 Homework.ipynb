{
 "cells": [
  {
   "cell_type": "markdown",
   "id": "85362951",
   "metadata": {},
   "source": [
    "\n",
    "# Homework 3\n",
    "\n",
    "**2025 Introduction to Quantiative Methods in Finance**\n",
    "\n",
    "**The Erdös Institute**\n",
    "\n",
    "\n",
    "These are suggested practice problems and are not to be submitted.\n",
    "\n",
    "\n",
    "The problems in this notebook serve as an introduction to fundamental \"Greeks\" of Black-Scholes.\n",
    "\n",
    "\n",
    "At the bottom of this notebook is a collection of functions that can be used to calculate the Greeks of a Call/Put Option."
   ]
  },
  {
   "cell_type": "markdown",
   "id": "039c8bd6",
   "metadata": {},
   "source": [
    "## Notation:\n",
    "\n",
    "In this homework set assume the standard Black-Scholes assumptions on the distribution $S_t$ of a stock path end points at a time $t>0$.\n",
    "\n",
    "**Remark**: In the lectures we have been writing $S(t)$ for $S_t$. We will now switch to using $S_t$ to make notation in the Black-Scholes world more digestiable. \n",
    "\n",
    "**Black-Scholes Formulas**: If $C_t$ and $P_t$ are the distribution of payoffs of a call and put option with strike price $K$ that expires at time $t$ then\n",
    "\n",
    "$$\n",
    "C_0 = e^{-rt} \\mathbb{E}[C(t)] = S_0\\Phi(d_1) - K e^{-rt}\\Phi(d_2),\n",
    "$$\n",
    "\n",
    "$$\n",
    "P_0 = e^{-rt} \\mathbb{E}[P(t)] = -S_0\\Phi(-d_1) + K e^{-rt}\\Phi(-d_2),\n",
    "$$\n",
    "where\n",
    "\n",
    "$$\n",
    "d_1 = \\frac{\\ln\\left(\\frac{S_0}{K}\\right) + \\left(r + \\frac{\\sigma^2}{2}\\right)t}{\\sigma \\sqrt{t}}, \\qquad\n",
    "d_2 = d_1 - \\sigma\\sqrt{t}\n",
    "$$\n",
    "and $\\Phi$ is the cummulative distribution function of the standard normal distribution $\\mathcal{N}(0,1)$.\n",
    "\n",
    "\n",
    "**Delta**\n",
    "\n",
    "The *delta* of the call and put options at time $t=0$ are the rates of change of $C_0$ and $P_0$ with respect to the price of the underlying spot price $S_0$:\n",
    "\n",
    "$$\\Delta_{C_0}:=\\frac{\\partial C_0}{\\partial S_0} = \\Phi(d_1) \\quad \\mbox{and}\\quad \\Delta_{P_0}:=\\frac{\\partial C_0}{\\partial S_0} = \\Phi(d_1)-1.$$\n",
    "\n",
    "\n",
    "**Remark**: At the bottom of this notebook are functions written out in the lectures for the Black-Scholes call and put prices as well as the deltas.\n"
   ]
  },
  {
   "cell_type": "code",
   "execution_count": null,
   "id": "c2947881",
   "metadata": {},
   "outputs": [],
   "source": []
  },
  {
   "cell_type": "markdown",
   "id": "a8948f6a",
   "metadata": {},
   "source": [
    "### Exercise 1\n",
    "\n",
    "Let $C_0$ and $P_0$ be the Black-Scholes prices of a call and put option at time $0$ that have identical time to expiration $t$ and strike price $K$. Show that if the risk-free interest rate is assumed to be $0$, then $C_0=P_0$."
   ]
  },
  {
   "cell_type": "markdown",
   "id": "c732c116",
   "metadata": {},
   "source": [
    "I'm not sure this is true.. \n",
    "\n",
    "$\\left. C_0\\right|_{r=0}\\ \\sqrt{2\\pi} = S_0 \\int_{-\\infty}^{d_1} dx\\ e^{x^2/2} - K \\int_{-\\infty}^{d_2}dx\\ e^{x^2/2} $   \n",
    "$\\left. P_0\\right|_{r=0}\\ \\sqrt{2\\pi} = -S_0 \\int_{-\\infty}^{-d_1} dx\\ e^{x^2/2} + K \\int_{-\\infty}^{-d_2}dx\\ e^{x^2/2} $   \n",
    "Then we have:\n",
    "\\begin{align}\n",
    "   \\sqrt{2\\pi}\\left( C_0 - P_0 \\right)_{r=0} &= S_0 \\left[ \\int_{-\\infty}^{d_1} dx\\ e^{x^2/2} - \\int_{-\\infty}^{-d_1} dx\\ e^{x^2/2} \\right] + K\\left[ -\\int_{-\\infty}^{d_2}dx\\ e^{x^2/2} + \\int_{-\\infty}^{-d_2}dx\\ e^{x^2/2} \\right]\\\\\n",
    "    &= S_0 \\int_{-d1}^{d_1} dx\\ e^{x^2/2} - K \\int_{-d2}^{d_2}dx\\ e^{x^2/2}\n",
    "\\end{align}\n",
    "   \n",
    "This value is only $0$ if $d_{1,2} = -d_{1,2} \\implies d_{1,2}=0$ but setting $r=0$ doesn't imply $d_{1,2}=0$"
   ]
  },
  {
   "cell_type": "markdown",
   "id": "d635610b",
   "metadata": {},
   "source": [
    "### Exercise 2 \n",
    "\n",
    "Verify the Black-Scholes equations for the delta of a call and put option. (Most of this was done in the lecture, but double check the algebra does indeed work out so that there is enough cancelation in the partial derivative computation so that $\\Delta_{C_0}$ simplifies to $\\Phi(d_1)$.)"
   ]
  },
  {
   "cell_type": "code",
   "execution_count": null,
   "id": "5c8909bf",
   "metadata": {},
   "outputs": [],
   "source": []
  },
  {
   "cell_type": "markdown",
   "id": "5a585059",
   "metadata": {},
   "source": [
    "### Exercise 3\n",
    "\n",
    "Let $C_0$ be the Black-Scholes price of an at-the-money call option. Show that \n",
    "\n",
    "$$\\frac{\\partial C_0}{\\partial S_0}>\\frac{1}{2} \\quad \\mbox{and} \\quad \\frac{\\partial P_0}{\\partial S_0}<-\\frac{1}{2}$$ and\n",
    "\n",
    "$$ \\lim_{t\\to 0^+} \\frac{\\partial C_0}{\\partial S_0} = \\frac{1}{2} \\quad \\mbox{and} \\quad \\lim_{t\\to 0^+} \\frac{\\partial P_0}{\\partial S_0} = -\\frac{1}{2}.$$\n",
    "\n"
   ]
  },
  {
   "cell_type": "markdown",
   "id": "a4f8fda9",
   "metadata": {},
   "source": [
    "These relation are compeltely dependent on how $\\Phi(d_1)$ behaves at the money as a function of $t$    \n",
    "\n",
    "At the money, we have $S_0 = K$, which means $\\ln(S_0/K) = 0$, so that\n",
    "\\begin{equation}\n",
    "    d_1 = \\frac{0 + (r+ \\sigma^2)\\ \\dfrac{t}{2}} {\\sigma\\ \\sqrt{t}} = \\frac{r\\ \\sqrt{t}}{\\sigma} + \\frac{1}{2}\\sigma\\ \\sqrt{t} \\geq 0\n",
    "\\end{equation}\n",
    "\n",
    "This is strictly greater than $0$ when $\\sigma$, $r$ and $t$ are strictly greater than 0. When $t\\to 0^+$, we get $d_1 \\to 0^+$  \n",
    "\n",
    "Since $\\Delta_{C_0} = \\Phi(d_1)$, and $\\Phi(x) > 1/2$ for $x>0$ and $\\Phi(x) = 1/2$ for $x=0$, the inequalities in the question are proved for Call options.   \n",
    "\n",
    "For the put option, $\\Delta_{P_0} = \\Phi(d_1) - 1$, the logic works the same in the case of $t \\to 0^+$. However, the inequality in the question for $t>0$ should be reversed, $X - 1 > -\\frac{1}{2}\\quad \\forall\\  X \\in (1/2,1]$\n"
   ]
  },
  {
   "cell_type": "markdown",
   "id": "e293ec3f",
   "metadata": {},
   "source": [
    "### Exercise 4\n",
    "\n",
    "The **Gamma** of a call and put options is the rate of change of the deltas with respect to $S_0$, i.e.,\n",
    "\n",
    "$$\\Gamma_{C_0} := \\frac{\\partial \\Delta_{C_0}}{\\partial S_0} = \\frac{\\partial^2C_0}{\\partial S_0^2} \\quad \\mbox{and} \\quad \\Gamma_{P_0} := \\frac{\\partial \\Delta_{P_0}}{\\partial S_0} = \\frac{\\partial^2P_0}{\\partial S_0^2}.$$\n",
    "\n",
    "Show that\n",
    "\n",
    "$$\\Gamma_{C_0} = \\Gamma_{P_0} = \\frac{\\varphi(d_1)}{S_0\\sigma\\sqrt{t}}$$\n",
    "where $\\varphi(z) = \\frac{1}{\\sqrt{2\\pi}}e^{-\\frac{z^2}{2}}$ is the probability density function of the standard normal distribution $\\mathcal{N}(0,1)$."
   ]
  },
  {
   "cell_type": "markdown",
   "id": "caa6b85d",
   "metadata": {},
   "source": [
    "We have:   \n",
    "\\begin{equation}\n",
    "    \\Gamma_{C_0} =  \\frac{\\partial \\Delta_{C_0}}{\\partial S_0} = \\frac{\\partial \\Phi}{\\partial d_1} \\frac{\\partial d_1}{\\partial S_0} = \\varphi(d_1) \\frac{\\dfrac{1}{S_0/K}\\dfrac{1}{K}}{\\sigma\\ \\sqrt{t}} = \\frac{\\varphi(d_1)}{S_0\\ \\sigma\\ \\sqrt{t}}\\quad \\blacksquare\n",
    "\\end{equation}\n",
    "\n",
    "As for the puts.\n",
    "\\begin{equation}\n",
    "    \\Gamma_{P_0} = \\frac{\\partial \\Delta_{P_0}}{\\partial S_0} = \\frac{\\partial}{\\partial S_0}\\left( \\Delta_{C_0} - 1 \\right) = \\Gamma_{C_0}\\quad \\blacksquare\n",
    "\\end{equation}"
   ]
  },
  {
   "cell_type": "markdown",
   "id": "2304bfdb",
   "metadata": {},
   "source": [
    "### Exercise 5\n",
    "\n",
    "Let $C$ be a call option with strike price $K$ and time-to-expiration $t$. Let $C'$ be a call with strike price $K'$ and time to expiration $t'$. \n",
    "\n",
    "   a) Assume that $K=K'$ and $t>t'$. Show that $\\Gamma_{C_0}<\\Gamma_{C_{0}'}$. \n",
    "   \n",
    "       - What does this imply about the Black-Scholes value of a call option that is near to expiration?\n",
    "        \n",
    "   b) Assume that $S_0\\geq K\\geq K'$ and $t = t'$. Show that $\\Gamma_{C_0}<\\Gamma_{C_0'}$.\n",
    "   \n",
    "       - What does this imply about the Black-Scholes value of a call option whose strike price is near the spot price?\n",
    "       \n",
    "   c) Explore the behavior of $\\Gamma$ for options that are near to being in-the-money. What are you able to imply about the behavior of the Black-Scholes value of an option that is near to being in-the-money?"
   ]
  },
  {
   "cell_type": "markdown",
   "id": "b024a9c7",
   "metadata": {},
   "source": [
    "### a)\n",
    "\n",
    "   \n",
    "\n",
    "We want to find $\\Gamma_{C_0} < \\Gamma_{C_0^\\prime}$   \n",
    "\\begin{equation}\n",
    "    \\Gamma - \\Gamma^\\prime = \\frac{1}{S_0\\ \\sigma}\\left( \\frac{\\varphi(d_1) - \\varphi(d_1^\\prime)}{\\sqrt{t} - \\sqrt{t^\\prime}} \\right)\\ .\n",
    "\\end{equation}   \n",
    "\n",
    "Now, looking at the denominator, if $t > t^\\prime$, the denominator is always positive. However, the numerator actually carries a nontrivial sign dependence.   \n",
    "   \n",
    "The demonstration of this can be seen in the plots below."
   ]
  },
  {
   "cell_type": "code",
   "execution_count": 3,
   "id": "18535c2f",
   "metadata": {},
   "outputs": [
    {
     "data": {
      "text/plain": [
       "Text(0.5, 0, '$t^\\\\prime$')"
      ]
     },
     "execution_count": 3,
     "metadata": {},
     "output_type": "execute_result"
    },
    {
     "data": {
      "image/png": "[encoded data removed]",
      "text/plain": [
       "<Figure size 864x576 with 1 Axes>"
      ]
     },
     "metadata": {
      "needs_background": "light"
     },
     "output_type": "display_data"
    }
   ],
   "source": [
    "from matplotlib import pyplot as plt\n",
    "import numpy as np\n",
    "from scipy import stats\n",
    "\n",
    "#sigma = 1, r = 0, doesn't change the behavior in t if r>0\n",
    "def d(lgS_K,t):\n",
    "    return lgS_K/np.sqrt(t) + np.sqrt(t)/2\n",
    "t1 = 0.5\n",
    "d1 = np.array([-2.0,-1.-0.5,-0.1,0.0,0.1,0.5,1.0,2.0])\n",
    "lgS_K = np.sqrt(t1)*d1 - t1/2\n",
    "\n",
    "t_prime = np.linspace(0.0001,t1,10000)\n",
    "d1_prime = np.array([d(SK,t_prime)for SK in lgS_K])\n",
    "\n",
    "fig,ax = plt.subplots(1,1,figsize=(12,8))\n",
    "for i,d in enumerate(d1_prime):\n",
    "        dif = stats.norm.pdf(d1[i])-stats.norm.pdf(d)\n",
    "        ax.plot(t_prime,dif,label='d1={:.1f}'.format(d1[i]))\n",
    "    \n",
    "ax.axhline(0,color='k',linestyle=':')\n",
    "ax.legend(loc='upper right',fontsize='x-large')\n",
    "ax.set_title(r'$\\phi(d_1) - \\phi(d_1^\\prime)$ as a function of $t^\\prime$, for $t={}$'.format(t1),fontsize=18)\n",
    "ax.set_xlabel(r'$t^\\prime$',fontsize='xx-large')"
   ]
  },
  {
   "cell_type": "markdown",
   "id": "2871d15e",
   "metadata": {},
   "source": [
    "### a cont'd\n",
    "\n",
    "So, there is quite a non-trivial dependence on $t^\\prime$ deciding whether $\\Gamma$ or $\\Gamma^\\prime$ is larger. However, for sure as $t^\\prime$ gets closer to expiration, $\\Gamma^\\prime$ becomes constant decided by $\\ln{S_0/K}$ (which determines different $d_1$ values) and with $\\Gamma>\\Gamma^\\prime$"
   ]
  },
  {
   "cell_type": "markdown",
   "id": "63b55f0f",
   "metadata": {},
   "source": [
    "# b)   "
   ]
  },
  {
   "cell_type": "code",
   "execution_count": 5,
   "id": "b9120da5",
   "metadata": {},
   "outputs": [
    {
     "data": {
      "text/plain": [
       "Text(0.5, 0, '$\\\\ln(S/K^\\\\prime$)')"
      ]
     },
     "execution_count": 5,
     "metadata": {},
     "output_type": "execute_result"
    },
    {
     "data": {
      "image/png": "[encoded data removed]",
      "text/plain": [
       "<Figure size 864x576 with 1 Axes>"
      ]
     },
     "metadata": {
      "needs_background": "light"
     },
     "output_type": "display_data"
    }
   ],
   "source": [
    "from matplotlib import pyplot as plt\n",
    "import numpy as np\n",
    "from scipy import stats\n",
    "\n",
    "#sigma = 1, r = 0, doesn't change the behavior in t if r>0\n",
    "def d(lgS_K,t):\n",
    "    return lgS_K/np.sqrt(t) + np.sqrt(t)/2\n",
    "lgS_K = 1\n",
    "t = [0.1,0.2,0.3,0.4,0.5]\n",
    "d1 = d(lgS_K,t)\n",
    "\n",
    "lgS_K_prime = np.linspace(lgS_K,lgS_K*np.log(100),10000)\n",
    "d1_prime = np.array([d(lgS_K_prime,tt) for tt in t])\n",
    "\n",
    "fig,ax = plt.subplots(1,1,figsize=(12,8))\n",
    "for i,d in enumerate(d1_prime):\n",
    "        dif = stats.norm.pdf(d1[i])-stats.norm.pdf(d)\n",
    "        ax.plot(lgS_K_prime,dif,label='t={:.1f}'.format(t[i]))\n",
    "    \n",
    "ax.axhline(0,color='k',linestyle=':')\n",
    "ax.legend(loc='best',fontsize='x-large')\n",
    "ax.set_title(r'$\\phi(d_1) - \\phi(d_1^\\prime)$ as a function of $\\ln(S/K^\\prime$), for $\\ln(S/K)={}$'.format(lgS_K),fontsize=18)\n",
    "ax.set_xlabel(r'$\\ln(S/K^\\prime$)',fontsize='xx-large')"
   ]
  },
  {
   "cell_type": "markdown",
   "id": "22129611",
   "metadata": {},
   "source": [
    "Here we find, for all choices of $K$, that $\\Gamma >\\Gamma^\\prime$"
   ]
  },
  {
   "cell_type": "markdown",
   "id": "c4b71d4b",
   "metadata": {},
   "source": [
    "### Exercise 6\n",
    "\n",
    "The **vega** of a call and put option is the rate of change of $C_0$ and $P_0$ with respect to volatility $\\sigma$:\n",
    "\n",
    "$$\\nu_{C_0} =\\frac{\\partial C_0}{\\partial \\sigma}\\quad \\mbox{and} \\quad \\nu_{P_0} = \\frac{\\partial P_0}{\\partial \\sigma}.$$\n",
    "\n",
    "Show that\n",
    "\n",
    "$$\\nu_{C_0} = \\nu_{P_0} = S_0\\sqrt{t}\\varphi(d_1).$$\n",
    "\n",
    "**Hint**: Similar to the computation of $\\Delta$, the identity $S_0\\varphi(d_1) = Ke^{-rt}\\varphi(d_2)$ will be useful in your computation."
   ]
  },
  {
   "cell_type": "code",
   "execution_count": null,
   "id": "d857cf4e",
   "metadata": {},
   "outputs": [],
   "source": []
  },
  {
   "cell_type": "markdown",
   "id": "775c4c88",
   "metadata": {},
   "source": [
    "### Exercise 7\n",
    "\n",
    "Explore the behavior of $\\nu_{C_0}$ and $\\nu_{P_0}$ for calls and puts that are in-the-money, at-the-money, and out-of-the-money. What are able to conclude about the behavior of the Black-Scholes Option prices?"
   ]
  },
  {
   "cell_type": "code",
   "execution_count": null,
   "id": "321dcd85",
   "metadata": {},
   "outputs": [],
   "source": []
  },
  {
   "cell_type": "markdown",
   "id": "d5be5630",
   "metadata": {},
   "source": [
    "### Exercise 8\n",
    "\n",
    "The **theta** of a call and put option is the rate of change of $C_0$ and $P_0$ with respect to time $t$:\n",
    "\n",
    "$$\\Theta_{C_0} = \\frac{\\partial C_0}{\\partial t}\\quad \\mbox{and}\\quad \\Theta_{P_0} = \\frac{\\partial P_0}{\\partial t}.$$\n",
    "\n",
    "Show that\n",
    "\n",
    "$$\\Theta_{C_0} = - \\frac{S_0\\varphi(d_1)\\sigma}{2\\sqrt{t}} - rKe^{-rt}\\Phi(d_2)$$\n",
    "and\n",
    "\n",
    "$$\\Theta_{C_0} = - \\frac{S_0\\varphi(d_1)\\sigma}{2\\sqrt{t}} + rKe^{-rt}\\Phi(-d_2).$$"
   ]
  },
  {
   "cell_type": "code",
   "execution_count": null,
   "id": "c0e760d4",
   "metadata": {},
   "outputs": [],
   "source": []
  },
  {
   "cell_type": "markdown",
   "id": "b0f96f07",
   "metadata": {},
   "source": [
    "## Exercise 9\n",
    "\n",
    "What do you observe about $\\Theta_{C_0}$ and $\\Theta_{P_0}$ when time-to-expiration is near $0$. What does this imply about the value of an option that is near to expiration?\n",
    "\n",
    "**Hint**: When $t$ is near $0$ then $rKe^{-rt}\\Phi(d_2)$ and $rKe^{-rt}\\Phi(-d_2)$ are quite small and cannot a value too much bigger than $rK$. So you can understand behavior of $\\Theta_{C_0}$ and $\\Theta_{P_0}$ when $t$ is near $0$ by understanding behavior of $- \\frac{S_0\\varphi(d_1)\\sigma}{2\\sqrt{t}}$ when $t$ is near $0$."
   ]
  },
  {
   "cell_type": "code",
   "execution_count": null,
   "id": "8f9d7e6c",
   "metadata": {},
   "outputs": [],
   "source": []
  },
  {
   "cell_type": "markdown",
   "id": "16b1f9db",
   "metadata": {},
   "source": [
    "### Exercise 10\n",
    "\n",
    "The **rho** of a call and put options is the rate of change of $C_0$ and $P_0$ with respect to the interest risk-free interest rate $r$:\n",
    "\n",
    "$$\\rho_{C_0}:= \\frac{\\partial C_0}{\\partial r}\\quad \\mbox{and} \\quad \\rho_{P_0}:= \\frac{\\partial P_0}{\\partial r}.$$\n",
    "\n",
    "Show that\n",
    "\n",
    "$$\\rho_{C_0} = te^{-rt}K\\Phi(d_2)$$\n",
    "and\n",
    "$$\\rho(P_0) = -te^{-rt}K\\Phi(-d_2).$$"
   ]
  },
  {
   "cell_type": "code",
   "execution_count": null,
   "id": "d765503a",
   "metadata": {},
   "outputs": [],
   "source": []
  },
  {
   "cell_type": "markdown",
   "id": "a6ef5cd7",
   "metadata": {},
   "source": [
    "### Exercise 11\n",
    "\n",
    "Explore the behavior of $\\rho_{C_0}$ and $\\rho_{P_0}$ when $t\\gg 0$. What can you conclude about the impact of changes of risk-free-interest rate on options that are not close to expiration?"
   ]
  },
  {
   "cell_type": "code",
   "execution_count": null,
   "id": "ff7136ee",
   "metadata": {},
   "outputs": [],
   "source": []
  },
  {
   "cell_type": "code",
   "execution_count": null,
   "id": "eec55b32",
   "metadata": {},
   "outputs": [],
   "source": []
  },
  {
   "cell_type": "code",
   "execution_count": null,
   "id": "a8478d98",
   "metadata": {},
   "outputs": [],
   "source": []
  },
  {
   "cell_type": "code",
   "execution_count": 69,
   "id": "4ca783ca",
   "metadata": {},
   "outputs": [],
   "source": [
    "import numpy as np\n",
    "from scipy.stats import norm\n",
    "\n",
    "\n",
    "\n",
    "##Below are functions that can be used to find Black-Scholes Greeks of European Call and Put Options.\n",
    "\n",
    "\n",
    "def bs_call(S0, K, sigma, t, r = 0):\n",
    "    \"\"\"\n",
    "    Computes the Black-Scholes price of a European call option.\n",
    "\n",
    "    Parameters:\n",
    "        S0 (float): Current asset price\n",
    "        K (float): Strike price\n",
    "        sigma (float): Annualized volatility (standard deviation of log returns)\n",
    "        t (float): Time to expiration (in years)\n",
    "        r (float): Risk-free interest rate (annualized)\n",
    "\n",
    "    Returns:\n",
    "        float: Call option price\n",
    "    \"\"\"\n",
    "    d1 = (np.log(S0/K) + (r+.5*sigma**2)*t)/(sigma*np.sqrt(t))\n",
    "    d2 = d1 - sigma*np.sqrt(t)\n",
    "    \n",
    "    call_price = S0*norm.cdf(d1) - K*np.exp(-r*t)*norm.cdf(d2)\n",
    "    return call_price\n",
    "\n",
    "\n",
    "def bs_put(S0, K, sigma, t, r=0):\n",
    "    \"\"\"\n",
    "    Description:\n",
    "    \n",
    "    Computes the Black-Scholes value of a European put option.\n",
    "    \n",
    "    Parameters:\n",
    "        S0: Current asset price\n",
    "        K: Strike price\n",
    "        sigma: Yearly standard deviation of log-returns (volatility)\n",
    "        t: Time to expiration (in years)\n",
    "        r: Risk-free interest rate\n",
    "    \n",
    "    Returns:\n",
    "        Put option price\n",
    "    \"\"\"\n",
    "    d1 = (np.log(S0/K) + (r+.5*sigma**2)*t)/(sigma*np.sqrt(t))\n",
    "    d2 = d1 - sigma*np.sqrt(t)\n",
    "    \n",
    "    put_price = -S0*norm.cdf(-d1) + K*np.exp(-r*t)*norm.cdf(-d2)\n",
    "    return put_price\n",
    "    \n",
    "    \n",
    "       \n",
    "\n",
    "\n",
    "def bs_call_delta(S0, K, sigma, t, r):\n",
    "    \"\"\"\n",
    "    Returns the Delta (sensitivity to spot price) of a European call option\n",
    "    under Black-Scholes assumptions.\n",
    "\n",
    "    Parameters:\n",
    "        S0 (float): Initial stock price\n",
    "        K (float): Strike price\n",
    "        sigma (float): Volatility of the stock\n",
    "        t (float): Time to maturity (in years)\n",
    "        r (float): Risk-free interest rate\n",
    "\n",
    "    Returns:\n",
    "        float: Delta of Call Option\n",
    "    \"\"\"\n",
    "    d1 = (np.log(S0/K) + (r+.5*sigma**2)*t)/(sigma*np.sqrt(t))\n",
    "    return norm.cdf(d1)\n",
    "\n",
    "\n",
    "def bs_put_delta(S0, K, sigma, t, r):\n",
    "    \"\"\"\n",
    "    Returns the Delta (sensitivity to spot price) of a European put option\n",
    "    under Black-Scholes assumptions.\n",
    "\n",
    "    Parameters:\n",
    "        S0 (float): Initial stock price\n",
    "        K (float): Strike price\n",
    "        sigma (float): Volatility of the stock\n",
    "        t (float): Time to maturity (in years)\n",
    "        r (float): Risk-free interest rate\n",
    "\n",
    "    Returns:\n",
    "        float: Delta of Put Option\n",
    "    \"\"\"\n",
    "    d1 = (np.log(S0/K) + (r+.5*sigma**2)*t)/(sigma*np.sqrt(t))\n",
    "    return norm.cdf(d1) - 1.\n",
    "\n",
    "\n",
    "\n",
    "def bs_gamma(S0,K,sigma,t,r):\n",
    "    \"\"\"\n",
    "    Returns the Gamma (second order rate of change with respect to spot price) of a European call and put options\n",
    "    under Black-Scholes assumptions.\n",
    "\n",
    "    Parameters:\n",
    "        S0 (float): Initial stock price\n",
    "        K (float): Strike price\n",
    "        sigma (float): Volatility of the stock\n",
    "        t (float): Time to maturity (in years)\n",
    "        r (float): Risk-free interest rate\n",
    "\n",
    "    Returns:\n",
    "        float: Gamma of Call and Put Option\n",
    "    \"\"\"\n",
    "    \n",
    "    d1 = (np.log(S0/K) + (r+.5*sigma**2)*t)/(sigma*np.sqrt(t))\n",
    "    \n",
    "    return norm.pdf(d1)/(S0*sigma*np.sqrt(t))\n",
    "\n",
    "\n",
    "def bs_vega(S0,K,sigma,t,r):\n",
    "    \"\"\"\n",
    "    Returns the vega (rate of change with respect to volatility) of a European call and put options\n",
    "    under Black-Scholes assumptions.\n",
    "    \n",
    "    To express vega as a percentage change, divide return by 100.\n",
    "\n",
    "    Parameters:\n",
    "        S0 (float): Initial stock price\n",
    "        K (float): Strike price\n",
    "        sigma (float): Volatility of the stock\n",
    "        t (float): Time to maturity (in years)\n",
    "        r (float): Risk-free interest rate\n",
    "\n",
    "    Returns:\n",
    "        float: Vega of Call and Put Option\n",
    "    \"\"\"\n",
    "    \n",
    "    d1 = (np.log(S0/K) + (r+.5*sigma**2)*t)/(sigma*np.sqrt(t))\n",
    "    \n",
    "    return S0*norm.pdf(d1)*np.sqrt(t)\n",
    "\n",
    "\n",
    "def bs_call_theta(S0,K,sigma,t,r):\n",
    "    \"\"\"\n",
    "    Returns the theta (rate of change with respect to time) of a European call option\n",
    "    under Black-Scholes assumptions.\n",
    "    \n",
    "    \n",
    "    To give daily theta, divide return by 252.\n",
    "\n",
    "    Parameters:\n",
    "        S0 (float): Initial stock price\n",
    "        K (float): Strike price\n",
    "        sigma (float): Volatility of the stock\n",
    "        t (float): Time to maturity (in years)\n",
    "        r (float): Risk-free interest rate\n",
    "\n",
    "    Returns:\n",
    "        float: Theta of Call option\n",
    "    \"\"\"\n",
    "    \n",
    "    d1 = (np.log(S0/K) + (r+.5*sigma**2)*t)/(sigma*np.sqrt(t))\n",
    "    d2 = d1 - sigma*np.sqrt(t)\n",
    "    \n",
    "    return (-S0*norm.pdf(d1)*sigma)/(2*np.sqrt(t)) - r*K*np.exp(-r*t)*norm.cdf(d2)\n",
    "\n",
    "\n",
    "def bs_put_theta(S0,K,sigma,t,r):\n",
    "    \"\"\"\n",
    "    Returns the theta (rate of change with respect to time) of a European put option\n",
    "    under Black-Scholes assumptions.\n",
    "    \n",
    "    \n",
    "    To give daily theta, divide return by 252.\n",
    "\n",
    "    Parameters:\n",
    "        S0 (float): Initial stock price\n",
    "        K (float): Strike price\n",
    "        sigma (float): Volatility of the stock\n",
    "        t (float): Time to maturity (in years)\n",
    "        r (float): Risk-free interest rate\n",
    "\n",
    "    Returns:\n",
    "        float: Theta of Put option\n",
    "    \"\"\"\n",
    "    \n",
    "    d1 = (np.log(S0/K) + (r+.5*sigma**2)*t)/(sigma*np.sqrt(t))\n",
    "    d2 = d1 - sigma*np.sqrt(t)\n",
    "    \n",
    "    return (-S0*norm.pdf(d1)*sigma)/(2*np.sqrt(t)) + r*K*np.exp(-r*t)*norm.cdf(-d2)\n",
    "\n",
    "\n",
    "def bs_call_rho(S0,K,sigma,t,r):\n",
    "    \"\"\"\n",
    "    Returns the rho (rate of change with respect to risk-free interest) of a European call option\n",
    "    under Black-Scholes assumptions.\n",
    "    \n",
    "\n",
    "    Parameters:\n",
    "        S0 (float): Initial stock price\n",
    "        K (float): Strike price\n",
    "        sigma (float): Volatility of the stock\n",
    "        t (float): Time to maturity (in years)\n",
    "        r (float): Risk-free interest rate\n",
    "\n",
    "    Returns:\n",
    "        float: Rho of call option\n",
    "    \"\"\"\n",
    "    \n",
    "    d1 = (np.log(S0/K) + (r + 0.5*sigma**2)*t)/(sigma*np.sqrt(t))\n",
    "    d2 = d1 - sigma*np.sqrt(t)\n",
    "    \n",
    "    return K*t*np.exp(-r*t)*norm.cdf(d2)\n",
    "\n",
    "\n",
    "def bs_put_rho(S0,K,sigma,t,r):\n",
    "    \"\"\"\n",
    "    Returns the rho (rate of change with respect to risk-free interest) of a European put option\n",
    "    under Black-Scholes assumptions.\n",
    "    \n",
    "\n",
    "    Parameters:\n",
    "        S0 (float): Initial stock price\n",
    "        K (float): Strike price\n",
    "        sigma (float): Volatility of the stock\n",
    "        t (float): Time to maturity (in years)\n",
    "        r (float): Risk-free interest rate\n",
    "\n",
    "    Returns:\n",
    "        float: Rho of put option\n",
    "    \"\"\"\n",
    "    \n",
    "    d1 = (np.log(S0/K) + (r + 0.5*sigma**2)*t)/(sigma*np.sqrt(t))\n",
    "    d2 = d1 - sigma*np.sqrt(t)\n",
    "    \n",
    "    return -K*t*np.exp(-r*t)*norm.cdf(-d2)\n",
    "\n"
   ]
  }
 ],
 "metadata": {
  "kernelspec": {
   "display_name": "Python 3 (ipykernel)",
   "language": "python",
   "name": "python3"
  },
  "language_info": {
   "codemirror_mode": {
    "name": "ipython",
    "version": 3
   },
   "file_extension": ".py",
   "mimetype": "text/x-python",
   "name": "python",
   "nbconvert_exporter": "python",
   "pygments_lexer": "ipython3",
   "version": "3.8.10"
  }
 },
 "nbformat": 4,
 "nbformat_minor": 5
}
