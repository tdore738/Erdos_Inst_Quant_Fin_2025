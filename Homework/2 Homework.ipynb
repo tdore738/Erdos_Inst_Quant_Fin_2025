{
 "cells": [
  {
   "cell_type": "markdown",
   "id": "c517a0f0",
   "metadata": {},
   "source": [
    "# Homework 2\n",
    "\n",
    "**2025 Introduction to Quantiative Methods in Finance**\n",
    "\n",
    "**The Erdös Institute**\n",
    "\n",
    "\n",
    "These are suggested practice problems and are not to be submitted."
   ]
  },
  {
   "cell_type": "markdown",
   "id": "a114f862",
   "metadata": {},
   "source": [
    "## Exercise 1\n",
    "\n",
    "The symmetric random walk is the random walk that starts at $0$ whose up and down factors are $1$ and $-1$ respectively with probabilities $1/2$ for each.\n",
    "\n",
    "Simulate the 252 step symmetric random walk 1,000 times and compare the distribution of end points with a normal distribution."
   ]
  },
  {
   "cell_type": "code",
   "execution_count": null,
   "id": "0748828d",
   "metadata": {},
   "outputs": [],
   "source": []
  },
  {
   "cell_type": "code",
   "execution_count": null,
   "id": "3dba8750",
   "metadata": {},
   "outputs": [],
   "source": []
  },
  {
   "cell_type": "markdown",
   "id": "3a4e35ac",
   "metadata": {},
   "source": [
    "## Exercise 2\n",
    "\n",
    "What is the expected number of steps needed in the symmetric random walk for the walk to reach a value of $10$?"
   ]
  },
  {
   "cell_type": "code",
   "execution_count": null,
   "id": "926fc99b",
   "metadata": {},
   "outputs": [],
   "source": []
  },
  {
   "cell_type": "code",
   "execution_count": null,
   "id": "fb512450",
   "metadata": {},
   "outputs": [],
   "source": []
  },
  {
   "cell_type": "markdown",
   "id": "81214fbd",
   "metadata": {},
   "source": [
    "## Exercise 3\n",
    "\n",
    "Prove the variance of the $n$-step symmetric walk is $n$."
   ]
  },
  {
   "cell_type": "code",
   "execution_count": null,
   "id": "dd079f7b",
   "metadata": {},
   "outputs": [],
   "source": []
  },
  {
   "cell_type": "code",
   "execution_count": null,
   "id": "4007296b",
   "metadata": {},
   "outputs": [],
   "source": []
  },
  {
   "cell_type": "markdown",
   "id": "5d20bc50",
   "metadata": {},
   "source": [
    "## Exercise 4\n",
    "\n",
    "Simulate an AR(1) random walk of the form  \n",
    "$$\n",
    "X_t = r_1 + r_2 + \\cdots + r_t\n",
    "$$  \n",
    "where the increments $ r_t $ follow an AR(1) process given by  \n",
    "$$\n",
    "r_t = \\mu + c(r_{t-1} - \\mu) + \\sigma z_t,\n",
    "$$\n",
    "and $z_t$ is the standard normal distribution.\n",
    "\n",
    "- Simulate multiple paths of $ X_t $ for various values of the autocorrelation parameter $ c \\in \\{-0.9, -0.5, 0, 0.5, 0.9\\} $.\n",
    "- Set fixed values for $ \\mu $ and $ \\sigma $ (e.g., $ \\mu = 0 $, $ \\sigma = 1 $).\n",
    "- Explore how the autocorrelation coefficient $c$ affects behavior of the random walk."
   ]
  },
  {
   "cell_type": "code",
   "execution_count": null,
   "id": "fe412c0c",
   "metadata": {},
   "outputs": [],
   "source": []
  },
  {
   "cell_type": "code",
   "execution_count": null,
   "id": "2a6ceb15",
   "metadata": {},
   "outputs": [],
   "source": []
  },
  {
   "cell_type": "markdown",
   "id": "dbf247a7",
   "metadata": {},
   "source": [
    "## Exercise 5\n",
    "\n",
    "Simulate a MA(1) random walk of the form  \n",
    "$$\n",
    "X_t = r_1 + r_2 + \\cdots + r_t\n",
    "$$  \n",
    "where the increments $r_t$ follow an MA(1) process given by  \n",
    "$$\n",
    "r_t = \\mu + \\phi z_{t-1} + \\sigma z_t \n",
    "$$\n",
    "and $z_t$ is the standard normal distribution.\n",
    "\n",
    "- Simulate multiple paths of $X_t$ for various values of the moving average parameter $\\phi \\in \\{-0.9, -0.5, 0, 0.5, 0.9\\}$.\n",
    "- Use fixed values for $\\mu$ and $\\sigma$ (e.g., $\\mu = 0$, $\\sigma = 1$).\n",
    "- Explore how the moving average coefficient $\\phi$ affects behavior of the random walk.\n"
   ]
  },
  {
   "cell_type": "code",
   "execution_count": null,
   "id": "bb6f65ae",
   "metadata": {},
   "outputs": [],
   "source": []
  },
  {
   "cell_type": "code",
   "execution_count": null,
   "id": "213cd9e0",
   "metadata": {},
   "outputs": [],
   "source": []
  }
 ],
 "metadata": {
  "kernelspec": {
   "display_name": "Python 3 (ipykernel)",
   "language": "python",
   "name": "python3"
  },
  "language_info": {
   "codemirror_mode": {
    "name": "ipython",
    "version": 3
   },
   "file_extension": ".py",
   "mimetype": "text/x-python",
   "name": "python",
   "nbconvert_exporter": "python",
   "pygments_lexer": "ipython3",
   "version": "3.9.13"
  }
 },
 "nbformat": 4,
 "nbformat_minor": 5
}
